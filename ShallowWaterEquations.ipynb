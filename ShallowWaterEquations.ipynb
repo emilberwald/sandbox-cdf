{
 "cells": [
  {
   "cell_type": "raw",
   "metadata": {},
   "source": [
    "%config IPCompleter.greedy=True"
   ]
  },
  {
   "cell_type": "markdown",
   "metadata": {},
   "source": [
    "## Transport theorem\n",
    "\n",
    "\n",
    "$$\n",
    "d_t \\int_\\Omega \\phi dV = \\int_\\Omega\\partial_t \\phi +\\nabla\\cdot (\\phi\\otimes v)dV = \\int_\\Omega\\partial_t \\phi dV +\\int_{\\partial\\Omega}\\phi \\langle v, dA\\rangle = \\int_\\Omega s_\\Omega dV+\\int_{\\partial\\Omega} s_{\\partial\\Omega} dA\\label{eq:transport}\\\\\n",
    "$$\n",
    "$$\n",
    "|\\Omega|\\partial_t\\bar{\\phi} = |\\Omega|\\bar{s_\\Omega}+\\sum_f|\\partial\\Omega_f|\\langle(s_{\\partial\\Omega} - \\phi v)_f,n_f\\rangle\\label{eq:fvm}\n",
    "$$\n",
    "One should use operator splitting to be able to solve without the volume source term first."
   ]
  },
  {
   "cell_type": "markdown",
   "metadata": {},
   "source": [
    "#### Transport equations\n",
    "\n",
    "- ordered basis of species $\\mathcal{S}$, called $\\mathrm{species}$\n",
    "- species $s\\in\\mathcal{S}$ with \n",
    "  - mass fraction $Y_s$\n",
    "  - molar fraction $X_s$\n",
    "  - mass production rate $\\omega_s$\n",
    "  - enthalpy per unit mass $h_s$\n",
    "  - force per unit mass $a_s$, usually gravitational acceleration $\\bf{a}_s\\ = \\bf{g} = - \\nabla (gz)$\n",
    "- diffusion matrix $D$ with component $D_{ab}$ being cross-diffusion of species $a$ with respect to species $b$, $(a,b)\\in\\mathrm{species}\\times\\mathrm{species}$\n",
    "- species thermal diffusion $\\theta$, where component $\\theta_a$ is thermal diffusion of species $a$\n",
    "- species thermal diffusion ratios $\\chi = D^{-1}\\theta$, where component $\\chi_a$ is thermal diffusion ratio of species $a$\n",
    "- thermal conductivity $\\lambda$\n",
    "- absolute temperature $T$\n",
    "- thermodynamic pressure $p$"
   ]
  },
  {
   "cell_type": "markdown",
   "metadata": {},
   "source": [
    "Multicomponent variables:\n",
    "$$\n",
    "\\begin{align}\n",
    "X_a &= \\frac{(\\rho_{N})_a}{\\rho_{N}}\\\\\n",
    "Y_a &= \\frac{(\\rho_m)_a}{\\rho_m}\\\\\n",
    "q =&\\left[\\sum_{a\\in\\mathrm{species}}((\\phi_m) h + p\\chi V)_a\\right]-\\lambda\\nabla T \\\\\n",
    "V_a =&\\left[\\sum_{b\\in\\mathrm{species}}D_{ab}\\left[\\nabla(X_b) +\\frac{1}{p}\\left[(X_b -Y_b)\\nabla(p) + (\\phi_m)_b\\sum_{c\\in\\mathrm{species}}Y_c(a_c - a_b)\\right]\\right]\\right]+\\theta_a\\frac{1}{T}\\nabla(T)\n",
    "\\end{align}\n",
    "$$"
   ]
  },
  {
   "cell_type": "markdown",
   "metadata": {},
   "source": [
    "Mass transport:\n",
    "$$\n",
    "\\begin{align}\n",
    "(\\phi_m)_a &= \\rho_mY_a\\\\\n",
    "((s_{\\partial\\Omega})_m)_a &= (\\phi_m)_aV_a\\\\\n",
    "((s_\\Omega)_m)_a &= \\omega_a\\\\\n",
    "\\end{align}\n",
    "$$"
   ]
  },
  {
   "cell_type": "markdown",
   "metadata": {},
   "source": [
    "Momentum transport:\n",
    "$$\n",
    "\\begin{align}\n",
    "(\\phi_p)^k =&\\; \\rho_m v^k\\\\\n",
    "((s_{\\partial\\Omega})_p)_{ij} =&\\; (\\sigma_\\mathrm{static})_{ij} + (\\sigma_\\mathrm{elastic})_{ij} + \n",
    "(\\sigma_\\mathrm{viscous})_{ij}\\\\\n",
    "(\\sigma_\\mathrm{static})_{ij}=&-pg_{ij}\\\\\n",
    "(\\sigma_\\mathrm{elastic})_{ij}\\stackrel{?}{=}&\n",
    "\\frac{1}{2}[\\partial_j(x-x_0)_i + \\partial_i(x-x_0)_j - \\partial_i(x-x_0)_k\\partial_j(x-x_0)_k]\\\\\n",
    "(\\sigma_\\mathrm{viscous})_{ij}=& \\mu \\nabla_i(g_{jk}v^k) + \\mu\\nabla_j(g_{ik}v^k) + \\lambda\\nabla_k(g_{km}v^m)g_{ij}\\\\\n",
    "((s_\\Omega)_p)_i =& \\sum_{s\\in\\mathrm{species}}(\\phi_m \\cdot a_i)_s\n",
    "\\end{align}\n",
    "$$"
   ]
  },
  {
   "cell_type": "markdown",
   "metadata": {},
   "source": [
    "Energy transport:\n",
    "$$\n",
    "\\begin{align}\n",
    "\\phi_E =& \\left[\\sum_{s\\in\\mathrm{species}}(\\phi_m h)_s\\right] - p + \\frac{1}{2}\\langle\\rho_m v, v\\rangle\\\\\n",
    "(s_{\\partial\\Omega})_E =& -q+\\langle \\sigma, v\\rangle\\\\\n",
    "(s_\\Omega)_E =& \\sum_{s\\in\\mathrm{species}}\\langle (\\phi_mv + \\phi_m V)_s, (a)_s \\rangle\\\\\n",
    "\\end{align}\n",
    "$$"
   ]
  },
  {
   "cell_type": "markdown",
   "metadata": {},
   "source": [
    "#### Equations of State\n",
    "\n",
    "\"Engineering Enthalpy\" = \"Enthalpy of Formation at $T_{\\mathrm{ref}} = 298.5[K]$\" + \"(isobaric) Enthalpy Increment from $T_{\\mathrm{ref}}=298.5[K]$ to $T$\"\n",
    "\n",
    "\"Enthalpy of Formation at $T$\" = $\\Delta_fH^0_T$\n",
    "\n",
    "\"Specific Enthalpy\" = \"Enthalpy per Unit Mass\" = $h$\n",
    "\n",
    "\"(isobaric) Enthalpy Increment from $0$ to $T$\" = $\\int_0^T C_p dT$\n",
    "\n",
    "\"Enthalpy\" = $H = U + pV = \\int\\rho_m h dV$\n",
    "\n",
    "With some kind of Stoke's hypothesis $\\partial_V(U) = -p = \\frac{1}{3}Tr(\\sigma)$:\n",
    "\n",
    "$$\n",
    "dU \\\\\n",
    "= \\partial_S(U) dS +\\partial_V(U)dV +\\sum_{ij}\\partial_{\\epsilon_{ij}}(U)d\\epsilon_{ij}+ \\sum_i\\partial_{N_i}(U) dN_i \\\\\n",
    "= TdS +\\frac{1}{3}\\sum_{i}(\\sigma_{\\mathrm{static}})_{ii}dV + \\sum_{ij}(\\sigma_{\\mathrm{elastic}})_{ij}d\\epsilon_{ij} + \\langle\\langle\\sigma_{\\mathrm{viscous}}, v\\rangle, dA\\rangle + \\sum_i\\mu_idN_i\n",
    "$$\n",
    "\n",
    "$dH = d(U + pV) = TdS - pdV + Vdp + pdV = TdS + Vdp$\n",
    "\n",
    "$dS(T,V) = \\partial_T(S)dT + \\partial_V(S)dV\\Rightarrow TdS = T(\\partial_T(S)dT + \\partial_V(S)dV) = C_VdT + T\\partial_V(S)dV$\n",
    "\n",
    "$dS(T,p) = \\partial_T(S)dT + \\partial_p(S)dp \\Rightarrow TdS = T(\\partial_T(S)dT + \\partial_p(S)dp) = C_pdT + T\\partial_p(S)dp$\n",
    "\n",
    "$dH(T,p) = C_pdT + (T\\partial_p(S(T,p)) + V(T,p))dp$\n",
    "\n",
    "#### Jacobian of divergence term with respect to material property\n",
    "\n",
    "##### Shallow water equations\n",
    "\n",
    "$$\n",
    "p = \\rho f_z h\n",
    "$$\n",
    "\n",
    "\n",
    "\n",
    "Need Jacobian for Riemann Solvers\n",
    "$$\n",
    "\\frac{\\partial(\\sigma-\\rho v^i v^j)}{\\partial (\\rho v^i)} \\stackrel{?}{=} -v^j\n",
    "$$\n",
    "\n",
    "\n",
    "Finite Volume Method"
   ]
  },
  {
   "cell_type": "markdown",
   "metadata": {},
   "source": [
    "$$\n",
    "|\\Omega|\\partial_t\\bar{\\phi} = |\\Omega|\\bar{s_\\Omega}+\\sum_f|\\partial\\Omega_f|\\langle(s_{\\partial\\Omega} - \\phi v)_f,n_f\\rangle\\label{eq:fvm}\n",
    "$$\n",
    "\n",
    "$$\n",
    "\\begin{align}\n",
    "\\phi =&\\; \\rho h\\\\\n",
    "s_{\\partial\\Omega} =&\\;0 \\\\\n",
    "s_{\\Omega} =&\\;0 \\\\\n",
    "\\end{align}\n",
    "$$\n",
    "\n",
    "$$\n",
    "\\begin{align}\n",
    "\\phi^k =&\\; \\rho h v^k\\\\\n",
    "(s_{\\partial\\Omega})_{ij} =&\\; \\frac{1}{2}\\rho g \\eta^2 g_{ij} \\\\\n",
    "s_{\\Omega} =&\\;-(\\partial_x(z_b) + S_f)g\\\\\n",
    "\\end{align}\n",
    "$$"
   ]
  },
  {
   "cell_type": "code",
   "execution_count": 3,
   "metadata": {},
   "outputs": [],
   "source": [
    "!python drawarray.py --image lake.png --max water.txt --min bottom.txt"
   ]
  },
  {
   "cell_type": "code",
   "execution_count": 2,
   "metadata": {},
   "outputs": [],
   "source": [
    "import numpy as np\n",
    "\n",
    "bottom = np.loadtxt(\"bottom.txt\")\n",
    "water = np.loadtxt(\"water.txt\")\n",
    "velocity = np.zeros(bottom.shape[0], bottom.shape[1], 2)\n",
    "\n",
    "def flux(rho, g, water, bottom):\n",
    "    return 0.5 * rho * g * (water-bottom)**2\n",
    "\n",
    "def intercell_flux_hll(F, U_L, U_R, S_L, S_R):\n",
    "    if(0 <= S_L):\n",
    "        return F(U_L)\n",
    "    elif(S_L <= 0 <= S_R):\n",
    "        return (S_R * F(U_L) - S_L * F(U_R) + S_L * S_R * (U_R - U_L)) / (S_R - S_L)\n",
    "    elif(S_R <= 0):\n",
    "        return F(U_R)\n",
    "    else:\n",
    "        raise ValueError()"
   ]
  },
  {
   "cell_type": "code",
   "execution_count": null,
   "metadata": {},
   "outputs": [],
   "source": []
  }
 ],
 "metadata": {
  "kernelspec": {
   "display_name": "Python 3",
   "language": "python",
   "name": "python3"
  },
  "language_info": {
   "codemirror_mode": {
    "name": "ipython",
    "version": 3
   },
   "file_extension": ".py",
   "mimetype": "text/x-python",
   "name": "python",
   "nbconvert_exporter": "python",
   "pygments_lexer": "ipython3",
   "version": "3.9.0"
  }
 },
 "nbformat": 4,
 "nbformat_minor": 4
}
